{
  "cells": [
    {
      "cell_type": "markdown",
      "metadata": {},
      "source": [
        "## Rating Prediction Model"
      ]
    },
    {
      "cell_type": "code",
      "execution_count": null,
      "metadata": {
        "id": "JN21Dfm5JBBk"
      },
      "outputs": [],
      "source": [
        "import random\n",
        "from sklearn import linear_model\n",
        "from matplotlib import pyplot as plt\n",
        "from collections import defaultdict\n",
        "import gzip\n",
        "import urllib"
      ]
    },
    {
      "cell_type": "code",
      "execution_count": null,
      "metadata": {
        "id": "CXmccS9wFHO0"
      },
      "outputs": [],
      "source": [
        "path = \"/content/amazon_reviews_us_Musical_Instruments_v1_00.tsv.gz\"\n",
        "f = gzip.open(path, 'rt', encoding=\"utf8\")\n",
        "\n",
        "header = f.readline()\n",
        "header = header.strip().split('\\t')"
      ]
    },
    {
      "cell_type": "code",
      "execution_count": null,
      "metadata": {
        "colab": {
          "base_uri": "https://localhost:8080/"
        },
        "id": "6C_ShN8IFava",
        "outputId": "fa48c31d-77af-47e5-a5fd-4ff9430e65c8"
      },
      "outputs": [
        {
          "data": {
            "text/plain": [
              "['marketplace',\n",
              " 'customer_id',\n",
              " 'review_id',\n",
              " 'product_id',\n",
              " 'product_parent',\n",
              " 'product_title',\n",
              " 'product_category',\n",
              " 'star_rating',\n",
              " 'helpful_votes',\n",
              " 'total_votes',\n",
              " 'vine',\n",
              " 'verified_purchase',\n",
              " 'review_headline',\n",
              " 'review_body',\n",
              " 'review_date']"
            ]
          },
          "execution_count": 154,
          "metadata": {},
          "output_type": "execute_result"
        }
      ],
      "source": [
        "header"
      ]
    },
    {
      "cell_type": "code",
      "execution_count": null,
      "metadata": {
        "colab": {
          "base_uri": "https://localhost:8080/"
        },
        "id": "CfKLLZnnHQbt",
        "outputId": "165c99c4-cced-4443-dcbb-31329341edd3"
      },
      "outputs": [
        {
          "name": "stdout",
          "output_type": "stream",
          "text": [
            "Skipping duplicate user/item: ('46953315', 'B00QM3CNN6')\n",
            "Skipping duplicate user/item: ('31616428', 'B0026RB0G8')\n",
            "Skipping duplicate user/item: ('47240912', 'B008I653SC')\n",
            "Skipping duplicate user/item: ('14503091', 'B003FRMRC4')\n",
            "Skipping duplicate user/item: ('38538360', 'B00HVLUR86')\n",
            "Skipping duplicate user/item: ('43448024', 'B00HVLUR86')\n",
            "Skipping duplicate user/item: ('51525270', 'B00HVLUR86')\n",
            "Skipping duplicate user/item: ('20652160', 'B004OU2IQG')\n",
            "Skipping duplicate user/item: ('10964440', 'B00HVLUR86')\n",
            "Skipping duplicate user/item: ('20043677', 'B00HVLUR86')\n",
            "Skipping duplicate user/item: ('44796499', 'B00HVLUSGM')\n",
            "Skipping duplicate user/item: ('29066899', 'B0002CZSYO')\n",
            "Skipping duplicate user/item: ('10385056', 'B004OU2IQG')\n",
            "Skipping duplicate user/item: ('1658551', 'B00HVLURL8')\n",
            "Skipping duplicate user/item: ('907433', 'B00N9Q2E5G')\n",
            "Skipping duplicate user/item: ('39412969', 'B00HVLUR86')\n",
            "Skipping duplicate user/item: ('4901688', 'B00HVLUR86')\n",
            "Skipping duplicate user/item: ('23458093', 'B005CX4GLE')\n",
            "Skipping duplicate user/item: ('38515272', 'B00HVLUSGM')\n",
            "Skipping duplicate user/item: ('11577442', 'B004OU2IQG')\n",
            "Skipping duplicate user/item: ('33123229', 'B0002CZSZ8')\n",
            "Skipping duplicate user/item: ('1473221', 'B00HVLURL8')\n",
            "Skipping duplicate user/item: ('1473221', 'B004OU2IQG')\n",
            "Skipping duplicate user/item: ('1658551', 'B004OU2IQG')\n",
            "Skipping duplicate user/item: ('43576831', 'B00MUFJXTM')\n",
            "Skipping duplicate user/item: ('31983516', 'B00HVLUR86')\n",
            "Skipping duplicate user/item: ('14312454', 'B004OU2IQG')\n",
            "Skipping duplicate user/item: ('30290991', 'B004OU2IQG')\n",
            "Skipping duplicate user/item: ('2714455', 'B003VWKPHC')\n",
            "Skipping duplicate user/item: ('19347026', 'B00B9QONQQ')\n",
            "Skipping duplicate user/item: ('44303814', 'B00HVLUSGM')\n",
            "Skipping duplicate user/item: ('7586067', 'B0002D0A82')\n",
            "Skipping duplicate user/item: ('45224935', 'B00NICSAVI')\n",
            "Skipping duplicate user/item: ('15394678', 'B00LTZTPJM')\n",
            "Skipping duplicate user/item: ('13593540', 'B0002D0CK8')\n",
            "Skipping duplicate user/item: ('4032226', 'B000BKJPQY')\n",
            "Skipping duplicate user/item: ('22561437', 'B003VWKPHC')\n",
            "Skipping duplicate user/item: ('14945376', 'B00HVLUSGM')\n",
            "Skipping duplicate user/item: ('12738423', 'B000068O3T')\n",
            "Skipping duplicate user/item: ('7081001', 'B0098VHUEG')\n",
            "Skipping duplicate user/item: ('41554871', 'B005VLWHP4')\n",
            "Skipping duplicate user/item: ('25881037', 'B003OG9NH8')\n",
            "Skipping duplicate user/item: ('52621298', 'B000A6ASSS')\n",
            "Skipping duplicate user/item: ('10125876', 'B008U1P9QG')\n",
            "Skipping duplicate user/item: ('50181160', 'B0002E3FBA')\n",
            "Skipping duplicate user/item: ('44622391', 'B003OT9N48')\n",
            "Skipping duplicate user/item: ('48408803', 'B00HVLUR86')\n",
            "Skipping duplicate user/item: ('1976244', 'B0010CP5DY')\n",
            "Skipping duplicate user/item: ('1753779', 'B0002CZVU0')\n",
            "Skipping duplicate user/item: ('17036027', 'B00267QD8S')\n",
            "Skipping duplicate user/item: ('7472528', 'B00646MZHK')\n",
            "Skipping duplicate user/item: ('26003848', 'B00CICPN0K')\n",
            "Skipping duplicate user/item: ('27819775', 'B003BNZHSI')\n",
            "Skipping duplicate user/item: ('13011180', 'B006RJRBY6')\n",
            "Skipping duplicate user/item: ('50079991', 'B0002F5544')\n",
            "Skipping duplicate user/item: ('15398248', 'B0032BYCWG')\n",
            "Skipping duplicate user/item: ('32786226', 'B003FRMRC4')\n",
            "Skipping duplicate user/item: ('47300481', 'B004Z17008')\n",
            "Skipping duplicate user/item: ('36336335', 'B002MAKE98')\n",
            "Skipping duplicate user/item: ('25504145', 'B005CX4GLE')\n",
            "Skipping duplicate user/item: ('25189829', 'B003VWJ2K8')\n",
            "Skipping duplicate user/item: ('16333305', 'B002MAMCIE')\n",
            "Skipping duplicate user/item: ('5095315', 'B003VWKPHC')\n",
            "Skipping duplicate user/item: ('19017131', 'B0002D0A7S')\n",
            "Skipping duplicate user/item: ('11330459', 'B003VWJ2K8')\n",
            "Skipping duplicate user/item: ('48076283', 'B0002D09Q0')\n",
            "Skipping duplicate user/item: ('31588426', 'B005NACC6M')\n",
            "Skipping duplicate user/item: ('35281019', 'B00646MZHK')\n",
            "Skipping duplicate user/item: ('9878929', 'B0057OIUW4')\n",
            "Skipping duplicate user/item: ('48005643', 'B003QGPCTE')\n",
            "Skipping duplicate user/item: ('49974033', 'B0002FOBJY')\n",
            "Skipping duplicate user/item: ('13906387', 'B005NACC6M')\n",
            "Skipping duplicate user/item: ('12746123', 'B005NACC6M')\n",
            "Skipping duplicate user/item: ('14064980', 'B00ALR3XH4')\n",
            "Skipping duplicate user/item: ('20797342', 'B00ATP5KF6')\n",
            "Skipping duplicate user/item: ('32368781', 'B001BM4PTI')\n",
            "Skipping duplicate user/item: ('21145462', 'B003VWJ2K8')\n",
            "Skipping duplicate user/item: ('16420980', 'B007I0EGGO')\n",
            "Skipping duplicate user/item: ('45432948', 'B003PEU5SK')\n",
            "Skipping duplicate user/item: ('13174036', 'B006RJRBY6')\n",
            "Skipping duplicate user/item: ('14812308', 'B0029PONJS')\n",
            "Skipping duplicate user/item: ('52428106', 'B000Y010WS')\n",
            "Skipping duplicate user/item: ('52896636', 'B003AYLJXU')\n",
            "Skipping duplicate user/item: ('23539660', 'B0002E518U')\n",
            "Skipping duplicate user/item: ('25740618', 'B004ZL3AEI')\n",
            "Skipping duplicate user/item: ('25740618', 'B0006SE59S')\n",
            "Skipping duplicate user/item: ('12922606', 'B000065BP9')\n",
            "Skipping duplicate user/item: ('24873662', 'B0002M6AC8')\n",
            "Skipping duplicate user/item: ('52256186', 'B0002GY7KQ')\n",
            "Skipping duplicate user/item: ('18342171', 'B0002H0OCA')\n",
            "Skipping duplicate user/item: ('49600435', 'B0002F7JPC')\n",
            "Skipping duplicate user/item: ('52390258', 'B0006HY5PI')\n",
            "Skipping duplicate user/item: ('17281475', 'B00008MIGG')\n",
            "Skipping duplicate user/item: ('32535778', 'B0000DH7IT')\n",
            "Skipping duplicate user/item: ('29480926', 'B0000TFYK2')\n",
            "Skipping duplicate user/item: ('26926367', 'B00007CWI7')\n",
            "Skipping duplicate user/item: ('26926367', 'B00007CWI7')\n",
            "Skipping duplicate user/item: ('30727166', 'B00002MZ8M')\n",
            "Skipping duplicate user/item: ('50944807', 'B00006AMBW')\n",
            "Skipping duplicate user/item: ('50944807', 'B00006AMBW')\n",
            "Skipping duplicate user/item: ('50072613', 'B00005BMSN')\n",
            "Skipping duplicate user/item: ('36831311', 'B00005OWCU')\n",
            "Skipping duplicate user/item: ('33924930', 'B00005K9CI')\n",
            "Skipping duplicate user/item: ('35957274', 'B00005BWSN')\n",
            "Skipping duplicate user/item: ('52056770', 'B000062UI4')\n",
            "Skipping duplicate user/item: ('40818529', 'B00006L57W')\n",
            "Skipping duplicate user/item: ('38182161', 'B00005S8KM')\n",
            "Skipping duplicate user/item: ('39289364', 'B00004SY4H')\n",
            "Skipping duplicate user/item: ('50683331', 'B00005S8KM')\n",
            "Skipping duplicate user/item: ('39430726', 'B00004YUWT')\n",
            "Skipping duplicate user/item: ('41535371', 'B00002F2IZ')\n",
            "Skipping duplicate user/item: ('41535371', 'B00002F2IZ')\n",
            "Skipping duplicate user/item: ('48686420', 'B00004YAHE')\n",
            "Skipping duplicate user/item: ('50707323', 'B00005OQMY')\n",
            "Skipping duplicate user/item: ('46322021', 'B00005K9DX')\n",
            "Skipping duplicate user/item: ('52835176', 'B00002F2IZ')\n",
            "Skipping duplicate user/item: ('47736173', 'B00004YUWT')\n",
            "Skipping duplicate user/item: ('49350719', 'B00002DDSF')\n"
          ]
        }
      ],
      "source": [
        "dataset = []\n",
        "\n",
        "pairsSeen = set()\n",
        "\n",
        "for line in f:\n",
        "  fields = line.strip().split('\\t')\n",
        "  d = dict(zip(header, fields))\n",
        "\n",
        "  ui = (d['customer_id'], d['product_id'])\n",
        "  if ui in pairsSeen:\n",
        "      print(\"Skipping duplicate user/item:\", ui)\n",
        "      continue\n",
        "  pairsSeen.add(ui)\n",
        "  d['star_rating'] = int(d['star_rating'])\n",
        "  d['helpful_votes'] = int(d['helpful_votes'])\n",
        "  d['total_votes'] = int(d['total_votes'])\n",
        "  dataset.append(d) # dataset will have unique user/item pair\n"
      ]
    },
    {
      "cell_type": "code",
      "execution_count": null,
      "metadata": {
        "colab": {
          "base_uri": "https://localhost:8080/"
        },
        "id": "GXvcMDJrPnN4",
        "outputId": "f59f5c56-d85a-483b-ee71-180d6f1f5a95"
      },
      "outputs": [
        {
          "data": {
            "text/plain": [
              "{'marketplace': 'US',\n",
              " 'customer_id': '45610553',\n",
              " 'review_id': 'RMDCHWD0Y5OZ9',\n",
              " 'product_id': 'B00HH62VB6',\n",
              " 'product_parent': '618218723',\n",
              " 'product_title': 'AGPtek® 10 Isolated Output 9V 12V 18V Guitar Pedal Board Power Supply Effect Pedals with Isolated Short Cricuit / Overcurrent Protection',\n",
              " 'product_category': 'Musical Instruments',\n",
              " 'star_rating': 3,\n",
              " 'helpful_votes': 0,\n",
              " 'total_votes': 1,\n",
              " 'vine': 'N',\n",
              " 'verified_purchase': 'N',\n",
              " 'review_headline': 'Three Stars',\n",
              " 'review_body': 'Works very good, but induces ALOT of noise.',\n",
              " 'review_date': '2015-08-31'}"
            ]
          },
          "execution_count": 161,
          "metadata": {},
          "output_type": "execute_result"
        }
      ],
      "source": [
        "dataset[0]"
      ]
    },
    {
      "cell_type": "code",
      "execution_count": null,
      "metadata": {
        "id": "NA69ZRIoHa-d"
      },
      "outputs": [],
      "source": [
        "dataTrain = dataset[:int(len(dataset)*0.9)]\n",
        "dataTest = dataset[int(len(dataset)*0.9):]"
      ]
    },
    {
      "cell_type": "markdown",
      "metadata": {},
      "source": [
        "#### Jaccard Similarity"
      ]
    },
    {
      "cell_type": "code",
      "execution_count": null,
      "metadata": {
        "id": "YsR0tzRyCy0K"
      },
      "outputs": [],
      "source": [
        "usersPerItem = defaultdict(set) # Maps an item to the users who rated it\n",
        "itemsPerUser = defaultdict(set) # Maps a user to the items that they rated\n",
        "itemNames = {}\n",
        "ratingDict = {} # To retrieve a rating for a specific user/item pair\n",
        "reviewsPerUser = defaultdict(list)\n",
        "\n",
        "for d in dataTrain:\n",
        "    user, item = d[\"customer_id\"], d[\"product_id\"]\n",
        "    usersPerItem[item].add(user)\n",
        "    itemsPerUser[user].add(item)\n",
        "\n",
        "for d in dataset:\n",
        "    user, item = d[\"customer_id\"], d[\"product_id\"]\n",
        "    itemNames[item] = d[\"product_title\"]\n",
        "    ratingDict[(user, item)] = d[\"star_rating\"]\n",
        "    reviewsPerUser[user].append(d[\"review_body\"])\n"
      ]
    },
    {
      "cell_type": "code",
      "execution_count": null,
      "metadata": {
        "id": "wRu2x8fpQOl5"
      },
      "outputs": [],
      "source": [
        "userAverages = {}\n",
        "itemAverages = {}\n",
        "\n",
        "for u in itemsPerUser:\n",
        "    rating_user = [ratingDict[(u, i)] for i in itemsPerUser[u]]\n",
        "    userAverages[u] = sum(rating_user)/len(rating_user)\n",
        "for i in usersPerItem:\n",
        "    rating_item = [ratingDict[(u, i)] for u in usersPerItem[i]]\n",
        "    itemAverages[i] = sum(rating_item)/len(rating_item)\n",
        "\n",
        "ratingMean = sum([d['star_rating'] for d in dataTrain]) / len(dataTrain)"
      ]
    },
    {
      "cell_type": "code",
      "execution_count": null,
      "metadata": {
        "id": "8RD21Ie_dqdZ"
      },
      "outputs": [],
      "source": [
        "def Jaccard(s1, s2):\n",
        "    numer = len(s1.intersection(s2))\n",
        "    denom = len(s1.union(s2))\n",
        "    return numer/denom"
      ]
    },
    {
      "cell_type": "code",
      "execution_count": null,
      "metadata": {
        "id": "iW9F94HXeFfl"
      },
      "outputs": [],
      "source": [
        "def mostSimilar(i, N):  #item i\n",
        "  similarity = []\n",
        "  user = usersPerItem[i]\n",
        "  for j in usersPerItem:\n",
        "    if i == j:\n",
        "      continue\n",
        "    sim = Jaccard(user, usersPerItem[j])\n",
        "    similarity.append((sim, j))\n",
        "  similarity.sort(reverse = True)\n",
        "  return similarity[:N]"
      ]
    },
    {
      "cell_type": "code",
      "execution_count": null,
      "metadata": {
        "id": "DTA9slBHfFIb"
      },
      "outputs": [],
      "source": [
        "query = 'B00KCHRKD6'"
      ]
    },
    {
      "cell_type": "code",
      "execution_count": null,
      "metadata": {
        "id": "JTXt-qDRfHwa"
      },
      "outputs": [],
      "source": [
        "# Predict 10 most similar items compared to item ‘B00KCHRKD6’\n",
        "\n",
        "ms = mostSimilar(query, 10)"
      ]
    },
    {
      "cell_type": "markdown",
      "metadata": {},
      "source": [
        "#### Rating prediction model based on similarity"
      ]
    },
    {
      "cell_type": "code",
      "execution_count": null,
      "metadata": {
        "id": "qQ5CfkLuf6gM"
      },
      "outputs": [],
      "source": [
        "def MSE(y, ypred):\n",
        "    difference = [(p-l)**2 for p, l in zip(ypred, y)]\n",
        "    return sum(difference)/ len(difference)"
      ]
    },
    {
      "cell_type": "code",
      "execution_count": null,
      "metadata": {
        "id": "PHQ1XjbdifvG"
      },
      "outputs": [],
      "source": [
        "def predictRating(user,item):\n",
        "    total_sim = []\n",
        "    weighted_rating = []\n",
        "\n",
        "    if item not in usersPerItem:\n",
        "      return ratingMean\n",
        "\n",
        "    for j in itemsPerUser[user]:\n",
        "      if j == item:\n",
        "        continue\n",
        "      sim = Jaccard(usersPerItem[item], usersPerItem[j])\n",
        "      weighted_rating.append((ratingDict[(user, j)] - itemAverages[j]) * sim)\n",
        "      total_sim.append(sim)\n",
        "\n",
        "    if sum(total_sim) == 0:\n",
        "      return itemAverages[item]\n",
        "\n",
        "    return itemAverages[item] + (sum(weighted_rating)/sum(total_sim))\n"
      ]
    },
    {
      "cell_type": "code",
      "execution_count": null,
      "metadata": {
        "id": "KUP031xiFMD8"
      },
      "outputs": [],
      "source": [
        "alwaysPredictMean = [sum([data[\"star_rating\"] for data in dataTest]) /len(dataTest)] * len(dataTest)"
      ]
    },
    {
      "cell_type": "code",
      "execution_count": null,
      "metadata": {
        "id": "SG6mlaNOFcMO"
      },
      "outputs": [],
      "source": [
        "simPredictions = [predictRating(d[\"customer_id\"], d[\"product_id\"]) for d in dataTest]"
      ]
    },
    {
      "cell_type": "code",
      "execution_count": null,
      "metadata": {
        "id": "TtBqO-7iFgSo"
      },
      "outputs": [],
      "source": [
        "labels = [d[\"star_rating\"] for d in dataTest]"
      ]
    },
    {
      "cell_type": "code",
      "execution_count": null,
      "metadata": {},
      "outputs": [],
      "source": [
        "MSE(simPredictions, labels)"
      ]
    },
    {
      "cell_type": "markdown",
      "metadata": {},
      "source": [
        "#### Time-weight collaborative filtering"
      ]
    },
    {
      "cell_type": "code",
      "execution_count": null,
      "metadata": {
        "colab": {
          "base_uri": "https://localhost:8080/"
        },
        "id": "82-pJJ9WYKnn",
        "outputId": "f81794ad-6dba-4a82-ffb3-37e2f5d3dae9"
      },
      "outputs": [
        {
          "data": {
            "text/plain": [
              "{'marketplace': 'US',\n",
              " 'customer_id': '45610553',\n",
              " 'review_id': 'RMDCHWD0Y5OZ9',\n",
              " 'product_id': 'B00HH62VB6',\n",
              " 'product_parent': '618218723',\n",
              " 'product_title': 'AGPtek® 10 Isolated Output 9V 12V 18V Guitar Pedal Board Power Supply Effect Pedals with Isolated Short Cricuit / Overcurrent Protection',\n",
              " 'product_category': 'Musical Instruments',\n",
              " 'star_rating': 3,\n",
              " 'helpful_votes': 0,\n",
              " 'total_votes': 1,\n",
              " 'vine': 'N',\n",
              " 'verified_purchase': 'N',\n",
              " 'review_headline': 'Three Stars',\n",
              " 'review_body': 'Works very good, but induces ALOT of noise.',\n",
              " 'review_date': '2015-08-31'}"
            ]
          },
          "execution_count": 222,
          "metadata": {},
          "output_type": "execute_result"
        }
      ],
      "source": [
        "dataset[0]"
      ]
    },
    {
      "cell_type": "code",
      "execution_count": null,
      "metadata": {
        "id": "Q3WlGOv3XP8v"
      },
      "outputs": [],
      "source": [
        "from datetime import datetime\n",
        "import math\n",
        "\n",
        "timestamps_dict = {(d[\"customer_id\"], d[\"product_id\"]): datetime.strptime(d[\"review_date\"], '%Y-%m-%d').timestamp() for d in dataset}\n",
        "\n",
        "def decay_function(u, i, j, lambda_value):\n",
        "    object_seconds = timestamps_dict[(u, j)]\n",
        "    target_seconds = timestamps_dict[(u, i)]\n",
        "    time_diff = abs(target_seconds - object_seconds)\n",
        "    return math.exp(-lambda_value * time_diff)"
      ]
    },
    {
      "cell_type": "code",
      "execution_count": null,
      "metadata": {
        "id": "yIc7gkcGQjL-"
      },
      "outputs": [],
      "source": [
        "def predictRating_temporal(user,item):\n",
        "    total_sim = []\n",
        "    weighted_rating = []\n",
        "\n",
        "    if item not in usersPerItem:\n",
        "      return ratingMean\n",
        "\n",
        "    for j in itemsPerUser[user]:\n",
        "      if j == item:\n",
        "        continue\n",
        "      sim = Jaccard(usersPerItem[item], usersPerItem[j])\n",
        "      weighted_rating.append((ratingDict[(user, j)] - itemAverages[j]) * sim * decay_function(user, item, j, 0.1))\n",
        "      total_sim.append(sim * decay_function(user, item, j, 0.1))\n",
        "\n",
        "    if sum(total_sim) == 0:\n",
        "      return itemAverages[item]\n",
        "\n",
        "    return itemAverages[item] + (sum(weighted_rating)/sum(total_sim))"
      ]
    },
    {
      "cell_type": "code",
      "execution_count": null,
      "metadata": {
        "id": "4xlhFIVJZwZ2"
      },
      "outputs": [],
      "source": [
        "Predictions_temporal = [predictRating_temporal(d[\"customer_id\"], d[\"product_id\"]) for d in dataTest]"
      ]
    },
    {
      "cell_type": "code",
      "execution_count": null,
      "metadata": {
        "id": "uk42uR1iZ68U"
      },
      "outputs": [],
      "source": [
        "labels = [d[\"star_rating\"] for d in dataTest]"
      ]
    },
    {
      "cell_type": "code",
      "execution_count": null,
      "metadata": {
        "id": "EonrTdeVbAn6"
      },
      "outputs": [],
      "source": [
        "itsMSE = MSE(Predictions_temporal, labels)"
      ]
    },
    {
      "cell_type": "code",
      "execution_count": null,
      "metadata": {
        "colab": {
          "base_uri": "https://localhost:8080/"
        },
        "id": "yxq5xX30bK4_",
        "outputId": "32b20977-b208-4baf-b4c1-093d5195ca2d"
      },
      "outputs": [
        {
          "data": {
            "text/plain": [
              "1.6993689339769356"
            ]
          },
          "execution_count": 252,
          "metadata": {},
          "output_type": "execute_result"
        }
      ],
      "source": [
        "itsMSE"
      ]
    }
  ],
  "metadata": {
    "colab": {
      "provenance": []
    },
    "kernelspec": {
      "display_name": "Python 3",
      "name": "python3"
    },
    "language_info": {
      "name": "python"
    }
  },
  "nbformat": 4,
  "nbformat_minor": 0
}
